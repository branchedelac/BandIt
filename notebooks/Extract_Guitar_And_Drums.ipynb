{
 "cells": [
  {
   "cell_type": "code",
   "execution_count": 1,
   "id": "e7740c8d-0bad-4649-a7e5-98a77783583e",
   "metadata": {},
   "outputs": [],
   "source": [
    "import pretty_midi\n",
    "import numpy as np\n",
    "import os"
   ]
  },
  {
   "cell_type": "code",
   "execution_count": 2,
   "id": "0e156ed5-2dea-43a0-acad-93099f6888cc",
   "metadata": {},
   "outputs": [],
   "source": [
    "def extract_guitar_and_drums(midi_file):\n",
    "    \"\"\"This function extracts the guitar and drum tracks from a midi file.\n",
    "       The input is a path to a midi file (for example: 'raw_data/song_name.mid') in string format\n",
    "       The output is a dictionary with the song name, guitar track and drum track\"\"\"\n",
    "    \n",
    "    mid = pretty_midi.PrettyMIDI(midi_file)\n",
    "    \n",
    "    guitars = []\n",
    "    lengths_guitar = []\n",
    "    drums = []\n",
    "    lengths_drums = []\n",
    "    \n",
    "    for instrument in mid.instruments:\n",
    "        if instrument.is_drum:\n",
    "            drums.append(instrument)\n",
    "            lengths_drums.append(len(instrument.notes))\n",
    "\n",
    "        if (instrument.program >= 25) and (instrument.program <= 31):\n",
    "            guitars.append(instrument)\n",
    "            lengths_guitar.append(len(instrument.notes))\n",
    "\n",
    "    drum_track = drums[lengths_drums.index(max(lengths_drums))]\n",
    "    guitar_track = guitars[lengths_guitar.index(max(lengths_guitar))]\n",
    "\n",
    "    song_title = os.path.splitext(os.path.basename(midi_file))[0]\n",
    "    \n",
    "    \n",
    "\n",
    "        \n",
    "    song_dict = {'title': song_title,\n",
    "                 'guitar': guitar_track,\n",
    "                 'drums': drum_track\n",
    "                }\n",
    "    return song_dict\n",
    "        \n",
    "    "
   ]
  },
  {
   "cell_type": "code",
   "execution_count": null,
   "id": "56db7ff9-e410-49cb-82eb-d3c8c86c6abb",
   "metadata": {},
   "outputs": [],
   "source": []
  }
 ],
 "metadata": {
  "kernelspec": {
   "display_name": "Python 3 (ipykernel)",
   "language": "python",
   "name": "python3"
  },
  "language_info": {
   "codemirror_mode": {
    "name": "ipython",
    "version": 3
   },
   "file_extension": ".py",
   "mimetype": "text/x-python",
   "name": "python",
   "nbconvert_exporter": "python",
   "pygments_lexer": "ipython3",
   "version": "3.10.6"
  }
 },
 "nbformat": 4,
 "nbformat_minor": 5
}
