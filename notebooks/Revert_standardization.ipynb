{
 "cells": [
  {
   "cell_type": "code",
   "execution_count": 1,
   "id": "b6c9803f-6b7f-4c63-b248-995e8ce10330",
   "metadata": {},
   "outputs": [],
   "source": [
    "import pretty_midi\n",
    "import pandas as pd"
   ]
  },
  {
   "cell_type": "code",
   "execution_count": 6,
   "id": "9cf9ba7b-ee1f-4b3b-b10b-aaf764b7d110",
   "metadata": {},
   "outputs": [],
   "source": [
    "def revert_standardization(list_of_std_bars: list, down_beats: list) -> list:\n",
    "    \"\"\" \n",
    "    This function reverts the standardization performed on the timing of musical bars \n",
    "    so that each bar will start, once again, at their original timing.\n",
    "    It gets a list of standardized bars and the list of original downbeats as inputs\n",
    "    and returns a list of bars with their original timing.\n",
    "    \"\"\"\n",
    "    original_down_beats = down_beats\n",
    "    list_of_unstd_bars = []\n",
    "\n",
    "    for i, std_bar in enumerate(list_of_std_bars):\n",
    "        if std_bar == []:\n",
    "            list_of_unstd_bars.append(std_bar)\n",
    "        else:\n",
    "            list_of_notes = []\n",
    "            for note in std_bar:           \n",
    "                if i == 0:\n",
    "                    note.start = note.start*original_down_beats[1]\n",
    "                    note.end = note.end*original_down_beats[1]\n",
    "                    list_of_notes.append(note)\n",
    "                \n",
    "                note.start = note.start*original_down_beats[i]\n",
    "                note.end = note.end*original_down_beats[i]\n",
    "                list_of_notes.append(note)\n",
    "            list_of_unstd_bars.append(list_of_notes)\n",
    "\n",
    "    return list_of_unstd_bars"
   ]
  },
  {
   "cell_type": "code",
   "execution_count": null,
   "id": "5fced5b5-0d34-460a-b377-e7f4b83e9111",
   "metadata": {},
   "outputs": [],
   "source": []
  }
 ],
 "metadata": {
  "kernelspec": {
   "display_name": "Python 3 (ipykernel)",
   "language": "python",
   "name": "python3"
  },
  "language_info": {
   "codemirror_mode": {
    "name": "ipython",
    "version": 3
   },
   "file_extension": ".py",
   "mimetype": "text/x-python",
   "name": "python",
   "nbconvert_exporter": "python",
   "pygments_lexer": "ipython3",
   "version": "3.10.6"
  }
 },
 "nbformat": 4,
 "nbformat_minor": 5
}
