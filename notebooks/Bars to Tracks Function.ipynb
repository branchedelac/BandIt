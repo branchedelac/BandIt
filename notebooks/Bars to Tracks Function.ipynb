{
 "cells": [
  {
   "cell_type": "code",
   "execution_count": 12,
   "id": "f2aebf8e-cb42-4b9a-b7d9-292556ab1c7d",
   "metadata": {},
   "outputs": [],
   "source": [
    "import pretty_midi"
   ]
  },
  {
   "cell_type": "code",
   "execution_count": 16,
   "id": "83feda35-7532-4939-8385-20e32c2c9cfe",
   "metadata": {},
   "outputs": [],
   "source": [
    "def bars_to_track(modelled_drum_bars: list) -> pretty_midi:\n",
    "    drums_bars_list = modelled_drum_bars\n",
    "    drum_track = pretty_midi.PrettyMIDI()\n",
    "    drum_track.instruments.append(pretty_midi.Instrument(0, is_drum=True, name=''))\n",
    "    \n",
    "    for bar in drums_bars_list:\n",
    "        for note in bar:\n",
    "            drum_track.instruments[0].notes.append(note)\n",
    "\n",
    "    drum_track.write('test_drum_track.mid')"
   ]
  },
  {
   "cell_type": "code",
   "execution_count": 14,
   "id": "76458895-8864-4893-9a23-7cd2cd681d2d",
   "metadata": {},
   "outputs": [],
   "source": [
    "hotel_california = pretty_midi.PrettyMIDI('test_data/Hotel_California_1.mid')"
   ]
  }
 ],
 "metadata": {
  "kernelspec": {
   "display_name": "Python 3 (ipykernel)",
   "language": "python",
   "name": "python3"
  },
  "language_info": {
   "codemirror_mode": {
    "name": "ipython",
    "version": 3
   },
   "file_extension": ".py",
   "mimetype": "text/x-python",
   "name": "python",
   "nbconvert_exporter": "python",
   "pygments_lexer": "ipython3",
   "version": "3.10.6"
  }
 },
 "nbformat": 4,
 "nbformat_minor": 5
}
